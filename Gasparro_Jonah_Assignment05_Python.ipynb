{
 "cells": [
  {
   "cell_type": "code",
   "execution_count": 3,
   "id": "7af4e034",
   "metadata": {},
   "outputs": [
    {
     "data": {
      "text/html": [
       "<div>\n",
       "<style scoped>\n",
       "    .dataframe tbody tr th:only-of-type {\n",
       "        vertical-align: middle;\n",
       "    }\n",
       "\n",
       "    .dataframe tbody tr th {\n",
       "        vertical-align: top;\n",
       "    }\n",
       "\n",
       "    .dataframe thead th {\n",
       "        text-align: right;\n",
       "    }\n",
       "</style>\n",
       "<table border=\"1\" class=\"dataframe\">\n",
       "  <thead>\n",
       "    <tr style=\"text-align: right;\">\n",
       "      <th></th>\n",
       "      <th>7elxdku9GGG5k8j0Xm8KWdANDgecHMV0</th>\n",
       "    </tr>\n",
       "  </thead>\n",
       "  <tbody>\n",
       "  </tbody>\n",
       "</table>\n",
       "</div>"
      ],
      "text/plain": [
       "Empty DataFrame\n",
       "Columns: [7elxdku9GGG5k8j0Xm8KWdANDgecHMV0]\n",
       "Index: []"
      ]
     },
     "execution_count": 3,
     "metadata": {},
     "output_type": "execute_result"
    }
   ],
   "source": [
    "import os\n",
    "import numpy as np\n",
    "import pandas as pd\n",
    "import requests\n",
    "import time\n",
    "\n",
    "os.chdir(\"C:/Users/johan_nii2lon/OneDrive/Desktop/Data Science Porject Management/Assigements/Assignment 5/Assignment05\")\n",
    "\n",
    "api_key = pd.read_csv(\"api_key.txt\")\n",
    " "
   ]
  },
  {
   "cell_type": "code",
   "execution_count": 5,
   "id": "158fc503",
   "metadata": {},
   "outputs": [
    {
     "name": "stdout",
     "output_type": "stream",
     "text": [
      "238\n"
     ]
    }
   ],
   "source": [
    "apiconde = requests.get(\"https://app.ticketmaster.com/discovery/v2/venues\",\n",
    "                          params = {\"apikey\":api_key , \"countryCode\": \"DE\"}).json()\n",
    "\n",
    "venues = apiconde[\"_embedded\"][\"venues\"]\n",
    "\n",
    "entries = apiconde[\"page\"][\"size\"]\n",
    "page = apiconde[\"page\"][\"totalPages\"]\n",
    "\n",
    "name = [venue.get(\"name\", \"NA\") for venue in venues]\n",
    "city = [venue[\"city\"].get(\"name\", \"NA\")for venue in venues]\n",
    "postalCode = [venue.get(\"postalCode\", \"NA\")for venue in venues]\n",
    "address = [venue.get(\"address\", {}).get(\"line1\", \"NA\") for venue in venues]\n",
    "url = [venue.get(\"url\", \"NA\") for venue in venues]\n",
    "location = [venue.get(\"location\", {}) for venue in venues]\n",
    "longitude = [loc.get(\"longitude\", \"NA\") for loc in location]\n",
    "latitude = [loc.get(\"latitude\", \"NA\")for loc in location]\n",
    "\n",
    "df = pd.DataFrame({\"name\": name,\n",
    "                   \"city\": city,\n",
    "                   \"postalCode\": postalCode,\n",
    "                   \"address\": address,\n",
    "                    \"url\": url,\n",
    "                    \"longitude\": longitude,\n",
    "                    \"latitude\": latitude})\n",
    "\n",
    "print(page)\n"
   ]
  },
  {
   "cell_type": "code",
   "execution_count": 6,
   "id": "4a0af695",
   "metadata": {
    "scrolled": true
   },
   "outputs": [],
   "source": [
    "def df_country(country):\n",
    "    api_content = requests.get(\n",
    "        \"https://app.ticketmaster.com/discovery/v2/venues/\",\n",
    "        params={\n",
    "            \"apikey\": api_key,\n",
    "            \"countryCode\": country\n",
    "        }).json()\n",
    "    time.sleep(0.2)\n",
    "    page = api_content[\"page\"][\"totalPages\"]\n",
    "    entries = api_content[\"page\"][\"size\"]\n",
    "\n",
    "    df2 = pd.DataFrame()\n",
    "\n",
    "    for i in range(page):\n",
    "        api_content2 = requests.get(\n",
    "        \"https://app.ticketmaster.com/discovery/v2/venues/\",\n",
    "            params={\n",
    "            \"apikey\": api_key,\n",
    "            \"countryCode\": country,\n",
    "            \"page\":i\n",
    "            }).json()\n",
    "        venues = api_content2.get(\"_embedded\", {}).get(\"venues\", [])\n",
    "    \n",
    "        name = [venue.get(\"name\", \"NA\") for venue in venues]\n",
    "        city = [venue.get(\"city\", {}).get(\"name\", \"NA\") for venue in venues]\n",
    "        postalCode = [venue.get(\"postalCode\", \"NA\") for venue in venues]\n",
    "        address = [venue.get(\"address\", {}).get(\"line1\", \"NA\") for venue in venues]\n",
    "        url = [venue.get(\"url\", \"NA\") for venue in venues]\n",
    "        location = [venue.get(\"location\", {}) for venue in venues]\n",
    "        longitude = [loc.get(\"longitude\", \"NA\") for loc in location]\n",
    "        latitude = [loc.get(\"latitude\", \"NA\") for loc in location]\n",
    "\n",
    "        df_page = pd.DataFrame({\"name\": name,\n",
    "                           \"city\": city,\n",
    "                           \"postalCode\": postalCode,\n",
    "                           \"address\": address,\n",
    "                           \"url\": url,\n",
    "                           \"longitude\": longitude,\n",
    "                           \"latitude\": latitude})\n",
    "        df2 = pd.concat([df2, df_page], ignore_index=True)\n",
    "    return(df2)\n",
    "\n",
    "dfde = df_country(\"DE\")"
   ]
  },
  {
   "cell_type": "code",
   "execution_count": 101,
   "id": "beb3bd40",
   "metadata": {},
   "outputs": [
    {
     "name": "stdout",
     "output_type": "stream",
     "text": [
      "                                       name               city postalCode  \\\n",
      "0                             Chiemgauhalle         Traunstein      83278   \n",
      "1     CongressCentrum (Martin Hornung Saal)         Heidenheim      89522   \n",
      "2                      Beach Center Hamburg            Hamburg      22049   \n",
      "3                        Saalbau Titusforum  Frankfurt am Main      60439   \n",
      "4            Wildeshausen - Alexanderkirche       Wildeshausen      27793   \n",
      "...                                     ...                ...        ...   \n",
      "4480                          PreZero Arena           Sinsheim      74889   \n",
      "4481                               BayArena         Leverkusen      51371   \n",
      "4482                           Impuls Arena           Augsburg      86150   \n",
      "4483             Apollo Theater - Stuttgart          Stuttgart      70567   \n",
      "4484       Alter Reitplatz, REES-HALDERN(D)       Rees-Haldern         NA   \n",
      "\n",
      "                              address  \\\n",
      "0                Siegsdorferstrasse 1   \n",
      "1                   Hugo Rupf Platz 1   \n",
      "2                  Alter Teichweg 220   \n",
      "3                 Walter Möller Platz   \n",
      "4                      Herrlichkeit 6   \n",
      "...                               ...   \n",
      "4480                Baden-Wurttemberg   \n",
      "4481               Bismarckstrake 122   \n",
      "4482  Burgermeister Ulrich-strasse 90   \n",
      "4483               Plieninger Str 102   \n",
      "4484                               NA   \n",
      "\n",
      "                                                    url longitude latitude  \n",
      "0               http://www.ticketmaster.de/venue/290654        NA       NA  \n",
      "1               http://www.ticketmaster.de/venue/290619        NA       NA  \n",
      "2               http://www.ticketmaster.de/venue/290508        NA       NA  \n",
      "3               http://www.ticketmaster.de/venue/290499        NA       NA  \n",
      "4               http://www.ticketmaster.de/venue/290495        NA       NA  \n",
      "...                                                 ...       ...      ...  \n",
      "4480                                                 NA         0        0  \n",
      "4481                                                 NA         0        0  \n",
      "4482                                                 NA         0        0  \n",
      "4483                                                 NA         0        0  \n",
      "4484  https://www.ticketmaster.nl/venue/alter-reitpl...   6.45917   51.775  \n",
      "\n",
      "[4485 rows x 7 columns]\n"
     ]
    }
   ],
   "source": [
    "print(dfde)"
   ]
  },
  {
   "cell_type": "code",
   "execution_count": null,
   "id": "ca6e171f",
   "metadata": {},
   "outputs": [],
   "source": [
    "# Python\n",
    "import geopandas as gpd\n",
    "# get a base map of Germany\n",
    "map = gpd.read_file(gpd.datasets.get_path(\"naturalearth_lowres\"))\n",
    "map = map[map.name == \"Germany\"]\n",
    "# plot the map\n",
    "map.plot(ax = ax)"
   ]
  },
  {
   "cell_type": "code",
   "execution_count": 82,
   "id": "03f87b6b",
   "metadata": {},
   "outputs": [
    {
     "name": "stdout",
     "output_type": "stream",
     "text": [
      "                               name               city postalCode  \\\n",
      "0               The Floor (Rockhal)   Esch-sur-Alzette       4361   \n",
      "1                  Parc Gaalgebierg   Esch-sur-Alzette     L-4142   \n",
      "2                       Rockhal Box   Esch-sur-Alzette       4361   \n",
      "3                 Rockhal Main Hall   Esch-sur-Alzette       4361   \n",
      "4                      Rockhal Club   Esch-sur-Alzette       4361   \n",
      "5                      Philharmonie    Luxembourg-City     L-1499   \n",
      "6                       Herchesfeld   Roeser-Luxemburg       3206   \n",
      "7                  Château Beaufort           Beaufort     L-6313   \n",
      "8                           Rockhal   Esch-sur-Alzette       4361   \n",
      "9                       Casino 2000  Mondorf-Les-Bains     L-5618   \n",
      "10                           Exit07    Luxembourg-City       1112   \n",
      "11         Conservatoire de Musique    Luxembourg-City       2134   \n",
      "12                         Däichhal         Ettelbruck     L-9012   \n",
      "13        Kulturfabrik Esch-Alzette   Esch-sur-Alzette       4221   \n",
      "14                  LuxExpo The Box    Luxembourg-City       1347   \n",
      "15             Trifolion Echternach         Echternach       6486   \n",
      "16                  Open Air Belval   Esch-sur-Alzette     L-4361   \n",
      "17             Abbaye de Neumünster         Luxembourg    LU-2160   \n",
      "18                           Bieles             Bieles     L-4368   \n",
      "19                      Den Atelier    Luxembourg-City     L-1740   \n",
      "20  Rockhal Box, Club & Rockhalcafe   Esch-sur-Alzette       4361   \n",
      "\n",
      "                                   address  \\\n",
      "0                 Avenue du Rock'n'Roll, 5   \n",
      "1                             Rue du Stade   \n",
      "2                 Avenue du Rock'n'Roll, 5   \n",
      "3                 Avenue du Rock'n'Roll, 5   \n",
      "4                 Avenue du Rock'n'Roll, 5   \n",
      "5                     Place de l'Europe, 1   \n",
      "6                                   Roeser   \n",
      "7                           Rue du Château   \n",
      "8                Avenue du Rock''n''Roll 5   \n",
      "9                    rue Théodore Flammang   \n",
      "10                      Rue de l'Aciérie 1   \n",
      "11                   Rue Charles Martel 33   \n",
      "12                            Rue du Deich   \n",
      "13                   Rue de Luxembourg 116   \n",
      "14  10, Circuit de La Foire Internationale   \n",
      "15                    Porte St Willibord 2   \n",
      "16               Avenue du Rock 'n' Roll 5   \n",
      "17                          Rue Münster 28   \n",
      "18                     Avenue du Blues 100   \n",
      "19                    Rue de Hollerich, 54   \n",
      "20                 Avenue du Rock'n'Roll 5   \n",
      "\n",
      "                                                  url longitude  latitude  \n",
      "0   https://www.ticketmaster.be/venue/the-floor-ro...   5.94744   49.4999  \n",
      "1   https://www.ticketmaster.be/venue/parc-gaalgeb...    5.9856  49.48756  \n",
      "2   https://www.ticketmaster.be/venue/rockhal-box-...   5.94744   49.4999  \n",
      "3   https://www.ticketmaster.be/venue/rockhal-main...   5.94744   49.4999  \n",
      "4   https://www.ticketmaster.be/venue/rockhal-club...   5.94744   49.4999  \n",
      "5   https://www.ticketmaster.be/venue/philharmonie...   6.14247  49.61847  \n",
      "6   https://www.ticketmaster.be/venue/herchesfeld-...   6.10654  49.55576  \n",
      "7   https://www.ticketmaster.be/venue/chateau-beau...    6.2854  49.83366  \n",
      "8   https://www.ticketmaster.be/venue/rockhal-esch...   5.94744   49.4999  \n",
      "9   https://www.ticketmaster.be/venue/casino-2000-...   6.28134  49.50805  \n",
      "10  https://www.ticketmaster.be/venue/exit07-luxem...   6.12456  49.59757  \n",
      "11  https://www.ticketmaster.be/venue/conservatoir...   6.10518  49.60437  \n",
      "12  https://www.ticketmaster.be/venue/daichhal-ett...   6.09587  49.84417  \n",
      "13  https://www.ticketmaster.be/venue/kulturfabrik...   5.98788  49.50406  \n",
      "14  https://www.ticketmaster.be/venue/luxexpo-the-...   6.17068  49.63576  \n",
      "15  https://www.ticketmaster.be/venue/trifolion-ec...    6.4213  49.81431  \n",
      "16  https://www.ticketmaster.be/venue/open-air-bel...   5.94765   49.4998  \n",
      "17  https://www.ticketmaster.be/venue/abbaye-de-ne...   6.13671  49.60991  \n",
      "18  https://www.ticketmaster.be/venue/bieles-biele...   5.92212  49.50958  \n",
      "19  https://www.ticketmaster.be/venue/den-atelier-...   6.12612  49.59875  \n",
      "20  https://www.ticketmaster.be/venue/rockhal-box-...   5.94744   49.4999  \n"
     ]
    }
   ],
   "source": [
    "dflux = df_country(\"LU\")\n",
    "print(dflux)"
   ]
  },
  {
   "cell_type": "code",
   "execution_count": null,
   "id": "20b1ecae",
   "metadata": {},
   "outputs": [],
   "source": []
  }
 ],
 "metadata": {
  "kernelspec": {
   "display_name": "Python 3 (ipykernel)",
   "language": "python",
   "name": "python3"
  },
  "language_info": {
   "codemirror_mode": {
    "name": "ipython",
    "version": 3
   },
   "file_extension": ".py",
   "mimetype": "text/x-python",
   "name": "python",
   "nbconvert_exporter": "python",
   "pygments_lexer": "ipython3",
   "version": "3.9.12"
  }
 },
 "nbformat": 4,
 "nbformat_minor": 5
}
