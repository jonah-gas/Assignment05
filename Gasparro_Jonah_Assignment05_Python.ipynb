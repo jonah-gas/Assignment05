{
 "cells": [
  {
   "cell_type": "code",
   "execution_count": 7,
   "id": "7af4e034",
   "metadata": {},
   "outputs": [],
   "source": [
    "import os\n",
    "import numpy as np\n",
    "import pandas as pd\n",
    "import requests\n",
    "import time\n",
    "\n",
    "os.chdir(\"C:/Users/johan_nii2lon/OneDrive/Desktop/Data Science Porject Management/Assigements/Assignment 5/Assignment05\")\n",
    "\n",
    "api_key = pd.read_csv(\"api_key.txt\")\n",
    " "
   ]
  },
  {
   "cell_type": "code",
   "execution_count": 8,
   "id": "158fc503",
   "metadata": {},
   "outputs": [
    {
     "data": {
      "text/html": [
       "<div>\n",
       "<style scoped>\n",
       "    .dataframe tbody tr th:only-of-type {\n",
       "        vertical-align: middle;\n",
       "    }\n",
       "\n",
       "    .dataframe tbody tr th {\n",
       "        vertical-align: top;\n",
       "    }\n",
       "\n",
       "    .dataframe thead th {\n",
       "        text-align: right;\n",
       "    }\n",
       "</style>\n",
       "<table border=\"1\" class=\"dataframe\">\n",
       "  <thead>\n",
       "    <tr style=\"text-align: right;\">\n",
       "      <th></th>\n",
       "      <th>name</th>\n",
       "      <th>city</th>\n",
       "      <th>postalCode</th>\n",
       "      <th>address</th>\n",
       "      <th>url</th>\n",
       "      <th>longitude</th>\n",
       "      <th>latitude</th>\n",
       "    </tr>\n",
       "  </thead>\n",
       "  <tbody>\n",
       "    <tr>\n",
       "      <th>0</th>\n",
       "      <td>Grosse Freiheit 36</td>\n",
       "      <td>Hamburg</td>\n",
       "      <td>22767.0</td>\n",
       "      <td>Grosse Freiheit 36</td>\n",
       "      <td>http://www.ticketmaster.de/venue/287636</td>\n",
       "      <td>9.957905</td>\n",
       "      <td>53.551187</td>\n",
       "    </tr>\n",
       "    <tr>\n",
       "      <th>1</th>\n",
       "      <td>Gruenspan</td>\n",
       "      <td>Hamburg</td>\n",
       "      <td>22767.0</td>\n",
       "      <td>Grosse Freiheit 58</td>\n",
       "      <td>http://www.ticketmaster.de/venue/287155</td>\n",
       "      <td>9.958075</td>\n",
       "      <td>53.551885</td>\n",
       "    </tr>\n",
       "    <tr>\n",
       "      <th>2</th>\n",
       "      <td>Huxleys Neue Welt</td>\n",
       "      <td>Berlin</td>\n",
       "      <td>10967.0</td>\n",
       "      <td>Hasenheide 107 – 113</td>\n",
       "      <td>http://www.ticketmaster.de/venue/286842</td>\n",
       "      <td>13.421380</td>\n",
       "      <td>52.486391</td>\n",
       "    </tr>\n",
       "    <tr>\n",
       "      <th>3</th>\n",
       "      <td>Virtual Event</td>\n",
       "      <td>Worldwide</td>\n",
       "      <td>NaN</td>\n",
       "      <td>NA</td>\n",
       "      <td>https://www.ticketmaster.de/venue/virtuelles-e...</td>\n",
       "      <td>10.000000</td>\n",
       "      <td>50.000000</td>\n",
       "    </tr>\n",
       "    <tr>\n",
       "      <th>4</th>\n",
       "      <td>Ev. St. Jacobi Kirche</td>\n",
       "      <td>Sangerhausen</td>\n",
       "      <td>6526.0</td>\n",
       "      <td>Marktplatz</td>\n",
       "      <td>http://www.ticketmaster.de/venue/290061</td>\n",
       "      <td>NaN</td>\n",
       "      <td>NaN</td>\n",
       "    </tr>\n",
       "  </tbody>\n",
       "</table>\n",
       "</div>"
      ],
      "text/plain": [
       "                    name          city  postalCode               address  \\\n",
       "0     Grosse Freiheit 36       Hamburg     22767.0    Grosse Freiheit 36   \n",
       "1              Gruenspan       Hamburg     22767.0    Grosse Freiheit 58   \n",
       "2      Huxleys Neue Welt        Berlin     10967.0  Hasenheide 107 – 113   \n",
       "3          Virtual Event     Worldwide         NaN                    NA   \n",
       "4  Ev. St. Jacobi Kirche  Sangerhausen      6526.0            Marktplatz   \n",
       "\n",
       "                                                 url  longitude   latitude  \n",
       "0            http://www.ticketmaster.de/venue/287636   9.957905  53.551187  \n",
       "1            http://www.ticketmaster.de/venue/287155   9.958075  53.551885  \n",
       "2            http://www.ticketmaster.de/venue/286842  13.421380  52.486391  \n",
       "3  https://www.ticketmaster.de/venue/virtuelles-e...  10.000000  50.000000  \n",
       "4            http://www.ticketmaster.de/venue/290061        NaN        NaN  "
      ]
     },
     "execution_count": 8,
     "metadata": {},
     "output_type": "execute_result"
    }
   ],
   "source": [
    "apiconde = requests.get(\"https://app.ticketmaster.com/discovery/v2/venues\",\n",
    "                          params = {\"apikey\":api_key , \"countryCode\": \"DE\"}).json()\n",
    "\n",
    "venues = apiconde[\"_embedded\"][\"venues\"]\n",
    "\n",
    "entries = apiconde[\"page\"][\"size\"]\n",
    "page = apiconde[\"page\"][\"totalPages\"]\n",
    "\n",
    "name = [venue.get(\"name\", \"NA\") for venue in venues]\n",
    "city = [venue[\"city\"].get(\"name\", \"NA\")for venue in venues]\n",
    "postalCode = [venue.get(\"postalCode\", \"NA\")for venue in venues]\n",
    "address = [venue.get(\"address\", {}).get(\"line1\", \"NA\") for venue in venues]\n",
    "url = [venue.get(\"url\", \"NA\") for venue in venues]\n",
    "location = [venue.get(\"location\", {}) for venue in venues]\n",
    "longitude = [loc.get(\"longitude\", \"NA\") for loc in location]\n",
    "latitude = [loc.get(\"latitude\", \"NA\")for loc in location]\n",
    "\n",
    "df = pd.DataFrame({\"name\": name,\n",
    "                   \"city\": city,\n",
    "                   \"postalCode\": postalCode,\n",
    "                   \"address\": address,\n",
    "                    \"url\": url,\n",
    "                    \"longitude\": longitude,\n",
    "                    \"latitude\": latitude})\n",
    "\n",
    "df[\"postalCode\"] = pd.to_numeric(df[\"postalCode\"], errors = \"coerce\")\n",
    "df[\"longitude\"] = pd.to_numeric(df[\"longitude\"], errors=\"coerce\")\n",
    "df[\"latitude\"] = pd.to_numeric(df[\"latitude\"], errors=\"coerce\")\n",
    "\n",
    "df.head()\n"
   ]
  },
  {
   "cell_type": "code",
   "execution_count": 9,
   "id": "4a0af695",
   "metadata": {
    "scrolled": true
   },
   "outputs": [
    {
     "data": {
      "text/html": [
       "<div>\n",
       "<style scoped>\n",
       "    .dataframe tbody tr th:only-of-type {\n",
       "        vertical-align: middle;\n",
       "    }\n",
       "\n",
       "    .dataframe tbody tr th {\n",
       "        vertical-align: top;\n",
       "    }\n",
       "\n",
       "    .dataframe thead th {\n",
       "        text-align: right;\n",
       "    }\n",
       "</style>\n",
       "<table border=\"1\" class=\"dataframe\">\n",
       "  <thead>\n",
       "    <tr style=\"text-align: right;\">\n",
       "      <th></th>\n",
       "      <th>name</th>\n",
       "      <th>city</th>\n",
       "      <th>postalCode</th>\n",
       "      <th>address</th>\n",
       "      <th>url</th>\n",
       "      <th>longitude</th>\n",
       "      <th>latitude</th>\n",
       "    </tr>\n",
       "  </thead>\n",
       "  <tbody>\n",
       "    <tr>\n",
       "      <th>0</th>\n",
       "      <td>Grosse Freiheit 36</td>\n",
       "      <td>Hamburg</td>\n",
       "      <td>22767.0</td>\n",
       "      <td>Grosse Freiheit 36</td>\n",
       "      <td>http://www.ticketmaster.de/venue/287636</td>\n",
       "      <td>9.957905</td>\n",
       "      <td>53.551187</td>\n",
       "    </tr>\n",
       "    <tr>\n",
       "      <th>1</th>\n",
       "      <td>Gruenspan</td>\n",
       "      <td>Hamburg</td>\n",
       "      <td>22767.0</td>\n",
       "      <td>Grosse Freiheit 58</td>\n",
       "      <td>http://www.ticketmaster.de/venue/287155</td>\n",
       "      <td>9.958075</td>\n",
       "      <td>53.551885</td>\n",
       "    </tr>\n",
       "    <tr>\n",
       "      <th>2</th>\n",
       "      <td>Huxleys Neue Welt</td>\n",
       "      <td>Berlin</td>\n",
       "      <td>10967.0</td>\n",
       "      <td>Hasenheide 107 – 113</td>\n",
       "      <td>http://www.ticketmaster.de/venue/286842</td>\n",
       "      <td>13.421380</td>\n",
       "      <td>52.486391</td>\n",
       "    </tr>\n",
       "    <tr>\n",
       "      <th>3</th>\n",
       "      <td>Virtual Event</td>\n",
       "      <td>Worldwide</td>\n",
       "      <td>NaN</td>\n",
       "      <td>NA</td>\n",
       "      <td>https://www.ticketmaster.de/venue/virtuelles-e...</td>\n",
       "      <td>10.000000</td>\n",
       "      <td>50.000000</td>\n",
       "    </tr>\n",
       "    <tr>\n",
       "      <th>4</th>\n",
       "      <td>Ev. St. Jacobi Kirche</td>\n",
       "      <td>Sangerhausen</td>\n",
       "      <td>6526.0</td>\n",
       "      <td>Marktplatz</td>\n",
       "      <td>http://www.ticketmaster.de/venue/290061</td>\n",
       "      <td>NaN</td>\n",
       "      <td>NaN</td>\n",
       "    </tr>\n",
       "  </tbody>\n",
       "</table>\n",
       "</div>"
      ],
      "text/plain": [
       "                    name          city  postalCode               address  \\\n",
       "0     Grosse Freiheit 36       Hamburg     22767.0    Grosse Freiheit 36   \n",
       "1              Gruenspan       Hamburg     22767.0    Grosse Freiheit 58   \n",
       "2      Huxleys Neue Welt        Berlin     10967.0  Hasenheide 107 – 113   \n",
       "3          Virtual Event     Worldwide         NaN                    NA   \n",
       "4  Ev. St. Jacobi Kirche  Sangerhausen      6526.0            Marktplatz   \n",
       "\n",
       "                                                 url  longitude   latitude  \n",
       "0            http://www.ticketmaster.de/venue/287636   9.957905  53.551187  \n",
       "1            http://www.ticketmaster.de/venue/287155   9.958075  53.551885  \n",
       "2            http://www.ticketmaster.de/venue/286842  13.421380  52.486391  \n",
       "3  https://www.ticketmaster.de/venue/virtuelles-e...  10.000000  50.000000  \n",
       "4            http://www.ticketmaster.de/venue/290061        NaN        NaN  "
      ]
     },
     "execution_count": 9,
     "metadata": {},
     "output_type": "execute_result"
    }
   ],
   "source": [
    "def df_country(country):\n",
    "    api_content = requests.get(\n",
    "        \"https://app.ticketmaster.com/discovery/v2/venues/\",\n",
    "        params={\n",
    "            \"apikey\": api_key,\n",
    "            \"countryCode\": country\n",
    "        }).json()\n",
    "    time.sleep(0.2)\n",
    "    page = api_content[\"page\"][\"totalPages\"]\n",
    "    entries = api_content[\"page\"][\"size\"]\n",
    "\n",
    "    df2 = pd.DataFrame()\n",
    "\n",
    "    for i in range(page):\n",
    "        api_content2 = requests.get(\n",
    "        \"https://app.ticketmaster.com/discovery/v2/venues/\",\n",
    "            params={\n",
    "            \"apikey\": api_key,\n",
    "            \"countryCode\": country,\n",
    "            \"page\":i\n",
    "            }).json()\n",
    "        venues = api_content2.get(\"_embedded\", {}).get(\"venues\", [])\n",
    "    \n",
    "        name = [venue.get(\"name\", \"NA\") for venue in venues]\n",
    "        city = [venue.get(\"city\", {}).get(\"name\", \"NA\") for venue in venues]\n",
    "        postalCode = [venue.get(\"postalCode\", \"NA\") for venue in venues]\n",
    "        address = [venue.get(\"address\", {}).get(\"line1\", \"NA\") for venue in venues]\n",
    "        url = [venue.get(\"url\", \"NA\") for venue in venues]\n",
    "        location = [venue.get(\"location\", {}) for venue in venues]\n",
    "        longitude = [loc.get(\"longitude\", \"NA\") for loc in location]\n",
    "        latitude = [loc.get(\"latitude\", \"NA\") for loc in location]\n",
    "\n",
    "        df_page = pd.DataFrame({\"name\": name,\n",
    "                           \"city\": city,\n",
    "                           \"postalCode\": postalCode,\n",
    "                           \"address\": address,\n",
    "                           \"url\": url,\n",
    "                           \"longitude\": longitude,\n",
    "                           \"latitude\": latitude})\n",
    "        df2 = pd.concat([df2, df_page], ignore_index=True)\n",
    "        \n",
    "    df2[\"postalCode\"] = pd.to_numeric(df2[\"postalCode\"], errors = \"coerce\")\n",
    "    df2[\"longitude\"] = pd.to_numeric(df2[\"longitude\"], errors=\"coerce\")\n",
    "    df2[\"latitude\"] = pd.to_numeric(df2[\"latitude\"], errors=\"coerce\")\n",
    "    return(df2)\n",
    "\n",
    "dfde = df_country(\"DE\")\n",
    "\n",
    "dfde.head()"
   ]
  },
  {
   "cell_type": "code",
   "execution_count": 19,
   "id": "a94a9cf9",
   "metadata": {},
   "outputs": [],
   "source": [
    "\n"
   ]
  },
  {
   "cell_type": "code",
   "execution_count": null,
   "id": "efc54411",
   "metadata": {},
   "outputs": [],
   "source": []
  },
  {
   "cell_type": "code",
   "execution_count": 2,
   "id": "210baf49",
   "metadata": {},
   "outputs": [
    {
     "name": "stdout",
     "output_type": "stream",
     "text": [
      "Collecting geopandas\n",
      "  Downloading geopandas-0.12.2-py3-none-any.whl (1.1 MB)\n",
      "Collecting fiona>=1.8\n",
      "  Downloading Fiona-1.8.22-cp39-cp39-win_amd64.whl (21.7 MB)\n",
      "Requirement already satisfied: packaging in c:\\users\\johan_nii2lon\\anaconda3\\lib\\site-packages (from geopandas) (21.3)\n",
      "Collecting pyproj>=2.6.1.post1\n",
      "  Downloading pyproj-3.4.1-cp39-cp39-win_amd64.whl (4.8 MB)\n",
      "Collecting shapely>=1.7\n",
      "  Downloading shapely-2.0.0-cp39-cp39-win_amd64.whl (1.4 MB)\n",
      "Requirement already satisfied: pandas>=1.0.0 in c:\\users\\johan_nii2lon\\anaconda3\\lib\\site-packages (from geopandas) (1.4.2)\n",
      "Requirement already satisfied: attrs>=17 in c:\\users\\johan_nii2lon\\anaconda3\\lib\\site-packages (from fiona>=1.8->geopandas) (21.4.0)\n",
      "Requirement already satisfied: setuptools in c:\\users\\johan_nii2lon\\anaconda3\\lib\\site-packages (from fiona>=1.8->geopandas) (61.2.0)\n",
      "Collecting cligj>=0.5\n",
      "  Downloading cligj-0.7.2-py3-none-any.whl (7.1 kB)\n",
      "Requirement already satisfied: click>=4.0 in c:\\users\\johan_nii2lon\\anaconda3\\lib\\site-packages (from fiona>=1.8->geopandas) (8.0.4)\n",
      "Collecting click-plugins>=1.0\n",
      "  Downloading click_plugins-1.1.1-py2.py3-none-any.whl (7.5 kB)\n",
      "Requirement already satisfied: certifi in c:\\users\\johan_nii2lon\\anaconda3\\lib\\site-packages (from fiona>=1.8->geopandas) (2021.10.8)\n",
      "Requirement already satisfied: six>=1.7 in c:\\users\\johan_nii2lon\\anaconda3\\lib\\site-packages (from fiona>=1.8->geopandas) (1.16.0)\n",
      "Collecting munch\n",
      "  Downloading munch-2.5.0-py2.py3-none-any.whl (10 kB)\n",
      "Requirement already satisfied: colorama in c:\\users\\johan_nii2lon\\anaconda3\\lib\\site-packages (from click>=4.0->fiona>=1.8->geopandas) (0.4.4)\n",
      "Requirement already satisfied: pytz>=2020.1 in c:\\users\\johan_nii2lon\\anaconda3\\lib\\site-packages (from pandas>=1.0.0->geopandas) (2021.3)\n",
      "Requirement already satisfied: numpy>=1.18.5 in c:\\users\\johan_nii2lon\\anaconda3\\lib\\site-packages (from pandas>=1.0.0->geopandas) (1.21.5)\n",
      "Requirement already satisfied: python-dateutil>=2.8.1 in c:\\users\\johan_nii2lon\\anaconda3\\lib\\site-packages (from pandas>=1.0.0->geopandas) (2.8.2)\n",
      "Requirement already satisfied: pyparsing!=3.0.5,>=2.0.2 in c:\\users\\johan_nii2lon\\anaconda3\\lib\\site-packages (from packaging->geopandas) (3.0.4)\n",
      "Installing collected packages: munch, cligj, click-plugins, shapely, pyproj, fiona, geopandas\n",
      "Successfully installed click-plugins-1.1.1 cligj-0.7.2 fiona-1.8.22 geopandas-0.12.2 munch-2.5.0 pyproj-3.4.1 shapely-2.0.0\n",
      "Note: you may need to restart the kernel to use updated packages.\n"
     ]
    }
   ],
   "source": [
    "pip install geopandas"
   ]
  },
  {
   "cell_type": "code",
   "execution_count": 12,
   "id": "ca6e171f",
   "metadata": {},
   "outputs": [
    {
     "data": {
      "text/plain": [
       "<AxesSubplot:>"
      ]
     },
     "execution_count": 12,
     "metadata": {},
     "output_type": "execute_result"
    },
    {
     "data": {
      "image/png": "[encoded data removed]",
      "text/plain": [
       "<Figure size 432x288 with 1 Axes>"
      ]
     },
     "metadata": {
      "needs_background": "light"
     },
     "output_type": "display_data"
    }
   ],
   "source": [
    "# import package\n",
    "import geopandas as gpd\n",
    "\n",
    "# create GeoDataFrame with special column for longitude / latitude\n",
    "longitude_de = dfde[\"longitude\"]\n",
    "latitude_de = dfde[\"latitude\"]\n",
    "dfde_geo = gpd.GeoDataFrame(\n",
    "    dfde, geometry = gpd.points_from_xy(longitude_de,latitude_de)\n",
    ")\n",
    "\n",
    "# create visualization based on the given code\n",
    "# get a base map of Germany\n",
    "map = gpd.read_file(gpd.datasets.get_path(\"naturalearth_lowres\"))\n",
    "# create plot for Germany\n",
    "map = map[map.name == \"Germany\"].plot(color = \"white\", edgecolor = \"black\")\n",
    "# plot the map with dots for the venues\n",
    "dfde_geo.plot(ax = map)"
   ]
  },
  {
   "cell_type": "code",
   "execution_count": 19,
   "id": "03f87b6b",
   "metadata": {},
   "outputs": [
    {
     "data": {
      "text/plain": [
       "<AxesSubplot:>"
      ]
     },
     "execution_count": 19,
     "metadata": {},
     "output_type": "execute_result"
    },
    {
     "data": {
      "image/png": "[encoded data removed]",
      "text/plain": [
       "<Figure size 432x288 with 1 Axes>"
      ]
     },
     "metadata": {
      "needs_background": "light"
     },
     "output_type": "display_data"
    }
   ],
   "source": [
    "#set values beyond the borders to NA\n",
    "dfde['longitude'] = np.where((5.866 <= dfde['longitude']) & (dfde['longitude'] <= 15.042), dfde['longitude'], np.nan)\n",
    "dfde['latitude'] = np.where((47.270 <= dfde['latitude']) & (dfde['latitude'] <= 55.059), dfde['latitude'], np.nan)\n",
    "\n",
    "# create GeoDataFrame with columns for latitude und longitude\n",
    "longitude_de = dfde[\"longitude\"]\n",
    "latitude_de = dfde[\"latitude\"]\n",
    "dfde_geo = gpd.GeoDataFrame(\n",
    "    dfde, geometry = gpd.points_from_xy(longitude_de,latitude_de)\n",
    ")\n",
    "\n",
    "# create visualization based on the given code\n",
    "# get a base map of Germany\n",
    "map = gpd.read_file(gpd.datasets.get_path(\"naturalearth_lowres\"))\n",
    "# create plot for Germany\n",
    "map = map[map.name == \"Germany\"].plot(color = \"white\", edgecolor = \"black\")\n",
    "# plot the map with dots for the venues\n",
    "dfde_geo.plot(ax = map)"
   ]
  },
  {
   "cell_type": "code",
   "execution_count": 22,
   "id": "20b1ecae",
   "metadata": {},
   "outputs": [
    {
     "data": {
      "text/plain": [
       "<AxesSubplot:>"
      ]
     },
     "execution_count": 22,
     "metadata": {},
     "output_type": "execute_result"
    },
    {
     "data": {
      "image/png": "[encoded data removed]",
      "text/plain": [
       "<Figure size 432x288 with 1 Axes>"
      ]
     },
     "metadata": {
      "needs_background": "light"
     },
     "output_type": "display_data"
    }
   ],
   "source": [
    "# do the same for luxembourg\n",
    "dflu = df_country(\"LU\")\n",
    "\n",
    "\n",
    "#set values beyond the borders to NA\n",
    "dflu['longitude'] = np.where((5.733333 <= dflu['longitude']) & (dflu['longitude'] <=6.533333), dflu['longitude'], np.nan)\n",
    "dflu['latitude'] = np.where((49.447778 <= dflu['latitude']) & (dflu['latitude'] <= 50.182944), dflu['latitude'], np.nan)\n",
    "\n",
    "# create GeoDataFrame with columns for latitude und longitude\n",
    "longitude_lu = dflu[\"longitude\"]\n",
    "latitude_lu = dflu[\"latitude\"]\n",
    "dflu_geo = gpd.GeoDataFrame(\n",
    "    dflu, geometry = gpd.points_from_xy(longitude_lu,latitude_lu)\n",
    ")\n",
    "\n",
    "# create visualization based on the given code\n",
    "# get a base map of Germany\n",
    "map = gpd.read_file(gpd.datasets.get_path(\"naturalearth_lowres\"))\n",
    "# create plot for Germany\n",
    "map = map[map.name == \"Luxembourg\"].plot(color = \"white\", edgecolor = \"black\")\n",
    "# plot the map with dots for the venues\n",
    "dflu_geo.plot(ax = map)"
   ]
  }
 ],
 "metadata": {
  "kernelspec": {
   "display_name": "Python 3 (ipykernel)",
   "language": "python",
   "name": "python3"
  },
  "language_info": {
   "codemirror_mode": {
    "name": "ipython",
    "version": 3
   },
   "file_extension": ".py",
   "mimetype": "text/x-python",
   "name": "python",
   "nbconvert_exporter": "python",
   "pygments_lexer": "ipython3",
   "version": "3.9.12"
  }
 },
 "nbformat": 4,
 "nbformat_minor": 5
}
