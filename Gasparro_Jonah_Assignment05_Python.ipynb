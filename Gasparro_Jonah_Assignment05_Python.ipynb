{
 "cells": [
  {
   "cell_type": "markdown",
   "id": "56acc242",
   "metadata": {},
   "source": [
    "link to git: https://github.com/jonah-gas/Assignment05.git"
   ]
  },
  {
   "cell_type": "code",
   "execution_count": 1,
   "id": "7af4e034",
   "metadata": {},
   "outputs": [],
   "source": [
    "import os\n",
    "import numpy as np\n",
    "import pandas as pd\n",
    "import requests\n",
    "import time\n",
    "\n",
    "os.chdir(\"C:/Users/johan_nii2lon/OneDrive/Desktop/Data Science Porject Management/Assigements/Assignment 5/Assignment05\")\n",
    "\n",
    "api_key = pd.read_csv(\"api_key.txt\")\n",
    " "
   ]
  },
  {
   "cell_type": "markdown",
   "id": "5fffe271",
   "metadata": {},
   "source": [
    "# Exercise 7+8"
   ]
  },
  {
   "cell_type": "code",
   "execution_count": 2,
   "id": "158fc503",
   "metadata": {},
   "outputs": [
    {
     "data": {
      "text/html": [
       "<div>\n",
       "<style scoped>\n",
       "    .dataframe tbody tr th:only-of-type {\n",
       "        vertical-align: middle;\n",
       "    }\n",
       "\n",
       "    .dataframe tbody tr th {\n",
       "        vertical-align: top;\n",
       "    }\n",
       "\n",
       "    .dataframe thead th {\n",
       "        text-align: right;\n",
       "    }\n",
       "</style>\n",
       "<table border=\"1\" class=\"dataframe\">\n",
       "  <thead>\n",
       "    <tr style=\"text-align: right;\">\n",
       "      <th></th>\n",
       "      <th>name</th>\n",
       "      <th>city</th>\n",
       "      <th>postalCode</th>\n",
       "      <th>address</th>\n",
       "      <th>url</th>\n",
       "      <th>longitude</th>\n",
       "      <th>latitude</th>\n",
       "    </tr>\n",
       "  </thead>\n",
       "  <tbody>\n",
       "    <tr>\n",
       "      <th>0</th>\n",
       "      <td>Grosse Freiheit 36</td>\n",
       "      <td>Hamburg</td>\n",
       "      <td>22767</td>\n",
       "      <td>Grosse Freiheit 36</td>\n",
       "      <td>http://www.ticketmaster.de/venue/287636</td>\n",
       "      <td>9.957905</td>\n",
       "      <td>53.551187</td>\n",
       "    </tr>\n",
       "    <tr>\n",
       "      <th>1</th>\n",
       "      <td>Gruenspan</td>\n",
       "      <td>Hamburg</td>\n",
       "      <td>22767</td>\n",
       "      <td>Grosse Freiheit 58</td>\n",
       "      <td>http://www.ticketmaster.de/venue/287155</td>\n",
       "      <td>9.958075</td>\n",
       "      <td>53.551885</td>\n",
       "    </tr>\n",
       "    <tr>\n",
       "      <th>2</th>\n",
       "      <td>Huxleys Neue Welt</td>\n",
       "      <td>Berlin</td>\n",
       "      <td>10967</td>\n",
       "      <td>Hasenheide 107 – 113</td>\n",
       "      <td>http://www.ticketmaster.de/venue/286842</td>\n",
       "      <td>13.421380</td>\n",
       "      <td>52.486391</td>\n",
       "    </tr>\n",
       "    <tr>\n",
       "      <th>3</th>\n",
       "      <td>Zentrum am Park</td>\n",
       "      <td>Emmelshausen</td>\n",
       "      <td>56281</td>\n",
       "      <td>Rhein-Mosel-Straße 45</td>\n",
       "      <td>https://www.ticketmaster.de/venue/zentrum-am-p...</td>\n",
       "      <td>7.556560</td>\n",
       "      <td>50.155440</td>\n",
       "    </tr>\n",
       "    <tr>\n",
       "      <th>4</th>\n",
       "      <td>Stadthalle (Theatersaal)</td>\n",
       "      <td>Mülheim</td>\n",
       "      <td>45479</td>\n",
       "      <td>Theodor-Heuss-Platz 1</td>\n",
       "      <td>https://www.ticketmaster.de/venue/stadthalle-t...</td>\n",
       "      <td>6.874710</td>\n",
       "      <td>51.427780</td>\n",
       "    </tr>\n",
       "  </tbody>\n",
       "</table>\n",
       "</div>"
      ],
      "text/plain": [
       "                       name          city  postalCode                address  \\\n",
       "0        Grosse Freiheit 36       Hamburg       22767     Grosse Freiheit 36   \n",
       "1                 Gruenspan       Hamburg       22767     Grosse Freiheit 58   \n",
       "2         Huxleys Neue Welt        Berlin       10967   Hasenheide 107 – 113   \n",
       "3           Zentrum am Park  Emmelshausen       56281  Rhein-Mosel-Straße 45   \n",
       "4  Stadthalle (Theatersaal)       Mülheim       45479  Theodor-Heuss-Platz 1   \n",
       "\n",
       "                                                 url  longitude   latitude  \n",
       "0            http://www.ticketmaster.de/venue/287636   9.957905  53.551187  \n",
       "1            http://www.ticketmaster.de/venue/287155   9.958075  53.551885  \n",
       "2            http://www.ticketmaster.de/venue/286842  13.421380  52.486391  \n",
       "3  https://www.ticketmaster.de/venue/zentrum-am-p...   7.556560  50.155440  \n",
       "4  https://www.ticketmaster.de/venue/stadthalle-t...   6.874710  51.427780  "
      ]
     },
     "execution_count": 2,
     "metadata": {},
     "output_type": "execute_result"
    }
   ],
   "source": [
    "#request of venues in germany \n",
    "apiconde = requests.get(\"https://app.ticketmaster.com/discovery/v2/venues\",\n",
    "                          params = {\"apikey\":api_key , \"countryCode\": \"DE\", \"locale\": \"*\"}).json()\n",
    "\n",
    "#predefine venues out of lists\n",
    "venues = apiconde[\"_embedded\"][\"venues\"]\n",
    "\n",
    "#get number of entries per page and number of pages\n",
    "entries = apiconde[\"page\"][\"size\"]\n",
    "page = apiconde[\"page\"][\"totalPages\"]\n",
    "\n",
    "#extract details of venues and create vectors if no key set to NA\n",
    "# \"for venue in venues\" loops over each venue in venues\n",
    "name = [venue.get(\"name\", \"NA\") for venue in venues]\n",
    "city = [venue[\"city\"].get(\"name\", \"NA\")for venue in venues]\n",
    "postalCode = [venue.get(\"postalCode\", \"NA\")for venue in venues]\n",
    "address = [venue.get(\"address\", {}).get(\"line1\", \"NA\") for venue in venues]\n",
    "url = [venue.get(\"url\", \"NA\") for venue in venues]\n",
    "location = [venue.get(\"location\", {}) for venue in venues]\n",
    "longitude = [loc.get(\"longitude\", \"NA\") for loc in location]\n",
    "latitude = [loc.get(\"latitude\", \"NA\")for loc in location]\n",
    "\n",
    "#create empty dataframe\n",
    "df = pd.DataFrame({\"name\": name,\n",
    "                   \"city\": city,\n",
    "                   \"postalCode\": postalCode,\n",
    "                   \"address\": address,\n",
    "                    \"url\": url,\n",
    "                    \"longitude\": longitude,\n",
    "                    \"latitude\": latitude})\n",
    "\n",
    "#change type of longitude, latitude and postaCode to numeric\n",
    "df[\"postalCode\"] = pd.to_numeric(df[\"postalCode\"], errors = \"coerce\")\n",
    "df[\"longitude\"] = pd.to_numeric(df[\"longitude\"], errors=\"coerce\")\n",
    "df[\"latitude\"] = pd.to_numeric(df[\"latitude\"], errors=\"coerce\")\n",
    "\n",
    "#print head of data frame \n",
    "df.head()\n"
   ]
  },
  {
   "cell_type": "markdown",
   "id": "51a76cd1",
   "metadata": {},
   "source": [
    "## Exercise 9"
   ]
  },
  {
   "cell_type": "code",
   "execution_count": 3,
   "id": "4a0af695",
   "metadata": {
    "scrolled": true
   },
   "outputs": [
    {
     "name": "stdout",
     "output_type": "stream",
     "text": [
      "                       name          city  postalCode                address  \\\n",
      "0        Grosse Freiheit 36       Hamburg     22767.0     Grosse Freiheit 36   \n",
      "1                 Gruenspan       Hamburg     22767.0     Grosse Freiheit 58   \n",
      "2         Huxleys Neue Welt        Berlin     10967.0   Hasenheide 107 – 113   \n",
      "3           Zentrum am Park  Emmelshausen     56281.0  Rhein-Mosel-Straße 45   \n",
      "4  Stadthalle (Theatersaal)       Mülheim     45479.0  Theodor-Heuss-Platz 1   \n",
      "5             Schlossgarten      Bruchsal     76646.0       Schloss Bruchsal   \n",
      "6                Stadthalle    Hockenheim     68766.0        Rathausstraße 3   \n",
      "7                       FZW      Dortmund     44263.0        Ritterstraße 20   \n",
      "8               Arena Trier         Trier     54292.0     Fort-Worth-Platz 1   \n",
      "9             Eissporthalle     Memmingen     87700.0    Hühnerbergstraße 19   \n",
      "\n",
      "                                                 url  longitude   latitude  \n",
      "0            http://www.ticketmaster.de/venue/287636   9.957905  53.551187  \n",
      "1            http://www.ticketmaster.de/venue/287155   9.958075  53.551885  \n",
      "2            http://www.ticketmaster.de/venue/286842  13.421380  52.486391  \n",
      "3  https://www.ticketmaster.de/venue/zentrum-am-p...   7.556560  50.155440  \n",
      "4  https://www.ticketmaster.de/venue/stadthalle-t...   6.874710  51.427780  \n",
      "5  https://www.ticketmaster.de/venue/schlossgarte...   8.599080  49.126920  \n",
      "6  https://www.ticketmaster.de/venue/stadthalle-h...   8.549080  49.318490  \n",
      "7  https://www.ticketmaster.de/venue/fzw-dortmund...   7.450100  51.514810  \n",
      "8  https://www.ticketmaster.de/venue/arena-trier-...   6.664260  49.771830  \n",
      "9  https://www.ticketmaster.de/venue/eissporthall...  10.162930  47.979990  \n",
      "(12434, 7)\n"
     ]
    }
   ],
   "source": [
    "#create function to get df for country as input\n",
    "def df_country(country):\n",
    "    api_content = requests.get(\n",
    "        \"https://app.ticketmaster.com/discovery/v2/venues/\",\n",
    "        params={\n",
    "            \"apikey\": api_key,\n",
    "            \"countryCode\": country, \"locale\": \"*\", \"size\" : 500,\n",
    "        }).json()\n",
    "    time.sleep(0.2)\n",
    "    page = api_content[\"page\"][\"totalPages\"]\n",
    "    entries = api_content[\"page\"][\"size\"]\n",
    "    # create empty df \n",
    "    df2 = pd.DataFrame()\n",
    "    #loop over every page and extract details (see excerise 7+8)\n",
    "    for i in range(page):\n",
    "        api_content2 = requests.get(\n",
    "        \"https://app.ticketmaster.com/discovery/v2/venues/\",\n",
    "            params={\n",
    "            \"apikey\": api_key,\n",
    "            \"countryCode\": country, \"locale\": \"*\", \"size\":500,\n",
    "            \"page\":i\n",
    "            }).json()\n",
    "        venues = api_content2.get(\"_embedded\", {}).get(\"venues\", [])\n",
    "    \n",
    "        name = [venue.get(\"name\", \"NA\") for venue in venues]\n",
    "        city = [venue.get(\"city\", {}).get(\"name\", \"NA\") for venue in venues]\n",
    "        postalCode = [venue.get(\"postalCode\", \"NA\") for venue in venues]\n",
    "        address = [venue.get(\"address\", {}).get(\"line1\", \"NA\") for venue in venues]\n",
    "        url = [venue.get(\"url\", \"NA\") for venue in venues]\n",
    "        location = [venue.get(\"location\", {}) for venue in venues]\n",
    "        longitude = [loc.get(\"longitude\", \"NA\") for loc in location]\n",
    "        latitude = [loc.get(\"latitude\", \"NA\") for loc in location]\n",
    "\n",
    "        df_page = pd.DataFrame({\"name\": name,\n",
    "                           \"city\": city,\n",
    "                           \"postalCode\": postalCode,\n",
    "                           \"address\": address,\n",
    "                           \"url\": url,\n",
    "                           \"longitude\": longitude,\n",
    "                           \"latitude\": latitude})\n",
    "        #bind dataframes of all pages together\n",
    "        df2 = pd.concat([df2, df_page], ignore_index=True)\n",
    "        \n",
    "    df2[\"postalCode\"] = pd.to_numeric(df2[\"postalCode\"], errors = \"coerce\")\n",
    "    df2[\"longitude\"] = pd.to_numeric(df2[\"longitude\"], errors=\"coerce\")\n",
    "    df2[\"latitude\"] = pd.to_numeric(df2[\"latitude\"], errors=\"coerce\")\n",
    "    #return dataframe\n",
    "    return(df2)\n",
    "#use function for venues in germany\n",
    "dfde = df_country(\"DE\")\n",
    "#df of germany\n",
    "print(dfde.head(10))\n",
    "print(dfde.shape)\n"
   ]
  },
  {
   "cell_type": "markdown",
   "id": "20f1091e",
   "metadata": {},
   "source": [
    "## Exercise 10"
   ]
  },
  {
   "cell_type": "code",
   "execution_count": 4,
   "id": "ca6e171f",
   "metadata": {},
   "outputs": [
    {
     "data": {
      "text/plain": [
       "<AxesSubplot:>"
      ]
     },
     "execution_count": 4,
     "metadata": {},
     "output_type": "execute_result"
    },
    {
     "data": {
      "image/png": "[encoded data removed]",
      "text/plain": [
       "<Figure size 432x288 with 1 Axes>"
      ]
     },
     "metadata": {
      "needs_background": "light"
     },
     "output_type": "display_data"
    }
   ],
   "source": [
    "# import package\n",
    "import geopandas as gpd\n",
    "\n",
    "#create GeoDataFrame with columns for latitude und longitude\n",
    "longitude_de = dfde[\"longitude\"]\n",
    "latitude_de = dfde[\"latitude\"]\n",
    "dfde_geo = gpd.GeoDataFrame(\n",
    "    dfde, geometry = gpd.points_from_xy(longitude_de,latitude_de)\n",
    ")\n",
    "\n",
    "# create visualization based on the given code\n",
    "# get a base map of Germany\n",
    "map = gpd.read_file(gpd.datasets.get_path(\"naturalearth_lowres\"))\n",
    "# create plot for Germany\n",
    "map = map[map.name == \"Germany\"].plot(color = \"white\", edgecolor = \"black\")\n",
    "# plot the map with dots for the venues\n",
    "dfde_geo.plot(ax = map)"
   ]
  },
  {
   "cell_type": "markdown",
   "id": "a7c16a79",
   "metadata": {},
   "source": [
    "## Exercise 11"
   ]
  },
  {
   "cell_type": "code",
   "execution_count": 5,
   "id": "03f87b6b",
   "metadata": {},
   "outputs": [
    {
     "data": {
      "text/plain": [
       "<AxesSubplot:>"
      ]
     },
     "execution_count": 5,
     "metadata": {},
     "output_type": "execute_result"
    },
    {
     "data": {
      "image/png": "[encoded data removed]",
      "text/plain": [
       "<Figure size 432x288 with 1 Axes>"
      ]
     },
     "metadata": {
      "needs_background": "light"
     },
     "output_type": "display_data"
    }
   ],
   "source": [
    "#set values beyond the borders to NA\n",
    "dfde['longitude'] = np.where((5.866 <= dfde['longitude']) & (dfde['longitude'] <= 15.042), dfde['longitude'], np.nan)\n",
    "dfde['latitude'] = np.where((47.270 <= dfde['latitude']) & (dfde['latitude'] <= 55.059), dfde['latitude'], np.nan)\n",
    "\n",
    "#create GeoDataFrame with columns for latitude und longitude\n",
    "longitude_de = dfde[\"longitude\"]\n",
    "latitude_de = dfde[\"latitude\"]\n",
    "dfde_geo = gpd.GeoDataFrame(\n",
    "    dfde, geometry = gpd.points_from_xy(longitude_de,latitude_de)\n",
    ")\n",
    "\n",
    "# create visualization based on the given code\n",
    "# get a base map of Germany\n",
    "map = gpd.read_file(gpd.datasets.get_path(\"naturalearth_lowres\"))\n",
    "# create plot for Germany\n",
    "map = map[map.name == \"Germany\"].plot(color = \"white\", edgecolor = \"black\")\n",
    "# plot the map with dots for the venues\n",
    "dfde_geo.plot(ax = map)"
   ]
  },
  {
   "cell_type": "markdown",
   "id": "93c870b4",
   "metadata": {},
   "source": [
    "## Exercise 12"
   ]
  },
  {
   "cell_type": "code",
   "execution_count": 6,
   "id": "20b1ecae",
   "metadata": {},
   "outputs": [
    {
     "name": "stdout",
     "output_type": "stream",
     "text": [
      "                  name               city  postalCode  \\\n",
      "0  The Floor (Rockhal)   Esch-sur-Alzette      4361.0   \n",
      "1     Parc Gaalgebierg   Esch-sur-Alzette         NaN   \n",
      "2          Rockhal Box   Esch-sur-Alzette      4361.0   \n",
      "3    Rockhal Main Hall   Esch-sur-Alzette      4361.0   \n",
      "4         Rockhal Club   Esch-sur-Alzette      4361.0   \n",
      "5         Philharmonie    Luxembourg-City         NaN   \n",
      "6          Herchesfeld   Roeser-Luxemburg      3206.0   \n",
      "7     Château Beaufort           Beaufort         NaN   \n",
      "8              Rockhal   Esch-sur-Alzette      4361.0   \n",
      "9          Casino 2000  Mondorf-Les-Bains         NaN   \n",
      "\n",
      "                     address  \\\n",
      "0   Avenue du Rock'n'Roll, 5   \n",
      "1               Rue du Stade   \n",
      "2   Avenue du Rock'n'Roll, 5   \n",
      "3   Avenue du Rock'n'Roll, 5   \n",
      "4   Avenue du Rock'n'Roll, 5   \n",
      "5       Place de l'Europe, 1   \n",
      "6                     Roeser   \n",
      "7             Rue du Château   \n",
      "8  Avenue du Rock''n''Roll 5   \n",
      "9      rue Théodore Flammang   \n",
      "\n",
      "                                                 url  longitude  latitude  \n",
      "0  https://www.ticketmaster.be/venue/the-floor-ro...    5.94744  49.49990  \n",
      "1  https://www.ticketmaster.be/venue/parc-gaalgeb...    5.98560  49.48756  \n",
      "2  https://www.ticketmaster.be/venue/rockhal-box-...    5.94744  49.49990  \n",
      "3  https://www.ticketmaster.be/venue/rockhal-main...    5.94744  49.49990  \n",
      "4  https://www.ticketmaster.be/venue/rockhal-club...    5.94744  49.49990  \n",
      "5  https://www.ticketmaster.be/venue/philharmonie...    6.14247  49.61847  \n",
      "6  https://www.ticketmaster.be/venue/herchesfeld-...    6.10654  49.55576  \n",
      "7  https://www.ticketmaster.be/venue/chateau-beau...    6.28540  49.83366  \n",
      "8  https://www.ticketmaster.be/venue/rockhal-esch...    5.94744  49.49990  \n",
      "9  https://www.ticketmaster.be/venue/casino-2000-...    6.28134  49.50805  \n",
      "(102, 7)\n"
     ]
    },
    {
     "data": {
      "text/plain": [
       "<AxesSubplot:>"
      ]
     },
     "execution_count": 6,
     "metadata": {},
     "output_type": "execute_result"
    },
    {
     "data": {
      "image/png": "[encoded data removed]",
      "text/plain": [
       "<Figure size 432x288 with 1 Axes>"
      ]
     },
     "metadata": {
      "needs_background": "light"
     },
     "output_type": "display_data"
    }
   ],
   "source": [
    "# do the same for luxembourg\n",
    "dflu = df_country(\"LU\")\n",
    "print(dflu.head(10))\n",
    "print(dflu.shape)\n",
    "\n",
    "\n",
    "#set values beyond the borders to NA\n",
    "dflu['longitude'] = np.where((5.733333 <= dflu['longitude']) & (dflu['longitude'] <=6.533333), dflu['longitude'], np.nan)\n",
    "dflu['latitude'] = np.where((49.447778 <= dflu['latitude']) & (dflu['latitude'] <= 50.182944), dflu['latitude'], np.nan)\n",
    "\n",
    "# create GeoDataFrame with columns for latitude und longitude\n",
    "longitude_lu = dflu[\"longitude\"]\n",
    "latitude_lu = dflu[\"latitude\"]\n",
    "dflu_geo = gpd.GeoDataFrame(\n",
    "    dflu, geometry = gpd.points_from_xy(longitude_lu,latitude_lu)\n",
    ")\n",
    "\n",
    "# create visualization based on the given code\n",
    "# get a base map of Germany\n",
    "map = gpd.read_file(gpd.datasets.get_path(\"naturalearth_lowres\"))\n",
    "# create plot for Germany\n",
    "map = map[map.name == \"Luxembourg\"].plot(color = \"white\", edgecolor = \"black\")\n",
    "# plot the map with dots for the venues\n",
    "dflu_geo.plot(ax = map)"
   ]
  },
  {
   "cell_type": "markdown",
   "id": "6651462f",
   "metadata": {},
   "source": [
    "The plot still shows venues outside the borders. As i double checked the values for longitude and latitude this is due to the poor visualization of the borders by geopandas."
   ]
  }
 ],
 "metadata": {
  "kernelspec": {
   "display_name": "Python 3 (ipykernel)",
   "language": "python",
   "name": "python3"
  },
  "language_info": {
   "codemirror_mode": {
    "name": "ipython",
    "version": 3
   },
   "file_extension": ".py",
   "mimetype": "text/x-python",
   "name": "python",
   "nbconvert_exporter": "python",
   "pygments_lexer": "ipython3",
   "version": "3.9.12"
  }
 },
 "nbformat": 4,
 "nbformat_minor": 5
}
